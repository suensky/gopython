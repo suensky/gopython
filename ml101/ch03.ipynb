{
 "cells": [
  {
   "cell_type": "code",
   "execution_count": 3,
   "metadata": {},
   "outputs": [
    {
     "ename": "ValueError",
     "evalue": "maximum supported dimension for an ndarray is 32, found 150",
     "output_type": "error",
     "traceback": [
      "\u001b[0;31m---------------------------------------------------------------------------\u001b[0m",
      "\u001b[0;31mValueError\u001b[0m                                Traceback (most recent call last)",
      "Cell \u001b[0;32mIn[3], line 6\u001b[0m\n\u001b[1;32m      4\u001b[0m X \u001b[39m=\u001b[39m iris\u001b[39m.\u001b[39mdata[:, [\u001b[39m2\u001b[39m, \u001b[39m3\u001b[39m]]\n\u001b[1;32m      5\u001b[0m y \u001b[39m=\u001b[39m iris\u001b[39m.\u001b[39mtarget\n\u001b[0;32m----> 6\u001b[0m \u001b[39mprint\u001b[39m(np\u001b[39m.\u001b[39mndarray(X))\n\u001b[1;32m      7\u001b[0m \u001b[39mprint\u001b[39m(\u001b[39m'\u001b[39m\u001b[39mClass labels:\u001b[39m\u001b[39m'\u001b[39m, np\u001b[39m.\u001b[39munique(y))\n",
      "\u001b[0;31mValueError\u001b[0m: maximum supported dimension for an ndarray is 32, found 150"
     ]
    }
   ],
   "source": [
    "from sklearn import datasets\n",
    "import numpy as np\n",
    "iris = datasets.load_iris()\n",
    "X = iris.data[:, [2, 3]]\n",
    "y = iris.target\n",
    "print('Class labels:', np.unique(y))"
   ]
  },
  {
   "cell_type": "code",
   "execution_count": 4,
   "metadata": {},
   "outputs": [],
   "source": [
    "from sklearn.model_selection import train_test_split\n",
    "X_train, X_test, y_train, y_test = train_test_split(X, y, test_size=0.3, random_state=1, stratify=y)\n"
   ]
  },
  {
   "cell_type": "code",
   "execution_count": 8,
   "metadata": {},
   "outputs": [
    {
     "name": "stdout",
     "output_type": "stream",
     "text": [
      "[(array([1.4, 0.2]), 0), (array([1.7, 0.2]), 0), (array([5.3, 2.3]), 2), (array([5.7, 2.1]), 2), (array([1.2, 0.2]), 0), (array([5.6, 2.4]), 2), (array([6.6, 2.1]), 2), (array([1.2, 0.2]), 0), (array([5.8, 1.6]), 2), (array([4.6, 1.3]), 1), (array([3.3, 1. ]), 1), (array([3.9, 1.4]), 1), (array([1.3, 0.2]), 0), (array([4.7, 1.2]), 1), (array([4. , 1.3]), 1), (array([5.1, 1.9]), 2), (array([1.9, 0.2]), 0), (array([3.5, 1. ]), 1), (array([3.9, 1.2]), 1), (array([1.6, 0.2]), 0), (array([4.8, 1.8]), 2), (array([6.9, 2.3]), 2), (array([4.5, 1.5]), 1), (array([4.5, 1.3]), 1), (array([3.8, 1.1]), 1), (array([5.6, 2.4]), 2), (array([4.7, 1.4]), 1), (array([5.6, 1.4]), 2), (array([5.8, 2.2]), 2), (array([5.1, 2.4]), 2), (array([4.1, 1.3]), 1), (array([1.5, 0.4]), 0), (array([6.7, 2.2]), 2), (array([5. , 1.9]), 2), (array([4.8, 1.8]), 2), (array([5.6, 2.1]), 2), (array([4.2, 1.5]), 1), (array([6.7, 2. ]), 2), (array([5.5, 1.8]), 2), (array([1.6, 0.2]), 0), (array([4.9, 1.8]), 2), (array([1.4, 0.2]), 0), (array([5.1, 1.5]), 2), (array([1.9, 0.4]), 0), (array([1. , 0.2]), 0), (array([4.9, 1.5]), 1), (array([1.5, 0.2]), 0), (array([1.1, 0.1]), 0), (array([5.5, 1.8]), 2), (array([4.7, 1.5]), 1), (array([1.7, 0.3]), 0), (array([3.5, 1. ]), 1), (array([4.1, 1. ]), 1), (array([1.5, 0.2]), 0), (array([1.5, 0.2]), 0), (array([1.5, 0.2]), 0), (array([3.7, 1. ]), 1), (array([6.1, 2.5]), 2), (array([1.3, 0.3]), 0), (array([4.9, 1.5]), 1), (array([1.3, 0.2]), 0), (array([4.5, 1.6]), 1), (array([6. , 1.8]), 2), (array([1.6, 0.2]), 0), (array([1.4, 0.2]), 0), (array([4.4, 1.2]), 1), (array([5.1, 1.9]), 2), (array([3.6, 1.3]), 1), (array([4.1, 1.3]), 1), (array([4.8, 1.8]), 1), (array([6.1, 2.3]), 2), (array([4.5, 1.5]), 1), (array([4.5, 1.5]), 1), (array([5.4, 2.1]), 2), (array([5.6, 2.2]), 2), (array([4.6, 1.4]), 1), (array([1.5, 0.4]), 0), (array([1.7, 0.5]), 0), (array([6.1, 1.9]), 2), (array([5.1, 1.6]), 1), (array([6.4, 2. ]), 2), (array([5. , 1.5]), 2), (array([1.5, 0.2]), 0), (array([4.2, 1.3]), 1), (array([5.1, 2. ]), 2), (array([6. , 2.5]), 2), (array([1.5, 0.3]), 0), (array([1.4, 0.2]), 0), (array([5.6, 1.8]), 2), (array([1.4, 0.3]), 0), (array([5.9, 2.3]), 2), (array([3.9, 1.1]), 1), (array([4.2, 1.2]), 1), (array([4.3, 1.3]), 1), (array([1.5, 0.1]), 0), (array([5.2, 2.3]), 2), (array([4.4, 1.3]), 1), (array([1.3, 0.2]), 0), (array([1.4, 0.3]), 0), (array([5. , 1.7]), 1), (array([1.3, 0.3]), 0), (array([4. , 1.2]), 1), (array([1.6, 0.4]), 0), (array([1.5, 0.2]), 0), (array([1.3, 0.2]), 0)]\n"
     ]
    }
   ],
   "source": [
    "print(list(zip(X_train, y_train)))"
   ]
  },
  {
   "cell_type": "code",
   "execution_count": 11,
   "metadata": {},
   "outputs": [
    {
     "name": "stdout",
     "output_type": "stream",
     "text": [
      "Labels counts in y: [50 50 50]\n",
      "Labels counts in y: [35 35 35]\n",
      "Labels counts in y: [15 15 15]\n"
     ]
    }
   ],
   "source": [
    "\n",
    "print('Labels counts in y:', np.bincount(y))\n",
    "print('Labels counts in y:', np.bincount(y_train))\n",
    "print('Labels counts in y:', np.bincount(y_test))"
   ]
  },
  {
   "cell_type": "code",
   "execution_count": 14,
   "metadata": {},
   "outputs": [],
   "source": [
    "from sklearn.preprocessing import StandardScaler\n",
    "\n",
    "sc = StandardScaler()\n",
    "sc.fit(X_train)\n",
    "X_train_std = sc.transform(X_train)\n",
    "X_test_std = sc.transform(X_test)"
   ]
  },
  {
   "cell_type": "code",
   "execution_count": 15,
   "metadata": {},
   "outputs": [
    {
     "data": {
      "text/html": [
       "<style>#sk-container-id-1 {color: black;background-color: white;}#sk-container-id-1 pre{padding: 0;}#sk-container-id-1 div.sk-toggleable {background-color: white;}#sk-container-id-1 label.sk-toggleable__label {cursor: pointer;display: block;width: 100%;margin-bottom: 0;padding: 0.3em;box-sizing: border-box;text-align: center;}#sk-container-id-1 label.sk-toggleable__label-arrow:before {content: \"▸\";float: left;margin-right: 0.25em;color: #696969;}#sk-container-id-1 label.sk-toggleable__label-arrow:hover:before {color: black;}#sk-container-id-1 div.sk-estimator:hover label.sk-toggleable__label-arrow:before {color: black;}#sk-container-id-1 div.sk-toggleable__content {max-height: 0;max-width: 0;overflow: hidden;text-align: left;background-color: #f0f8ff;}#sk-container-id-1 div.sk-toggleable__content pre {margin: 0.2em;color: black;border-radius: 0.25em;background-color: #f0f8ff;}#sk-container-id-1 input.sk-toggleable__control:checked~div.sk-toggleable__content {max-height: 200px;max-width: 100%;overflow: auto;}#sk-container-id-1 input.sk-toggleable__control:checked~label.sk-toggleable__label-arrow:before {content: \"▾\";}#sk-container-id-1 div.sk-estimator input.sk-toggleable__control:checked~label.sk-toggleable__label {background-color: #d4ebff;}#sk-container-id-1 div.sk-label input.sk-toggleable__control:checked~label.sk-toggleable__label {background-color: #d4ebff;}#sk-container-id-1 input.sk-hidden--visually {border: 0;clip: rect(1px 1px 1px 1px);clip: rect(1px, 1px, 1px, 1px);height: 1px;margin: -1px;overflow: hidden;padding: 0;position: absolute;width: 1px;}#sk-container-id-1 div.sk-estimator {font-family: monospace;background-color: #f0f8ff;border: 1px dotted black;border-radius: 0.25em;box-sizing: border-box;margin-bottom: 0.5em;}#sk-container-id-1 div.sk-estimator:hover {background-color: #d4ebff;}#sk-container-id-1 div.sk-parallel-item::after {content: \"\";width: 100%;border-bottom: 1px solid gray;flex-grow: 1;}#sk-container-id-1 div.sk-label:hover label.sk-toggleable__label {background-color: #d4ebff;}#sk-container-id-1 div.sk-serial::before {content: \"\";position: absolute;border-left: 1px solid gray;box-sizing: border-box;top: 0;bottom: 0;left: 50%;z-index: 0;}#sk-container-id-1 div.sk-serial {display: flex;flex-direction: column;align-items: center;background-color: white;padding-right: 0.2em;padding-left: 0.2em;position: relative;}#sk-container-id-1 div.sk-item {position: relative;z-index: 1;}#sk-container-id-1 div.sk-parallel {display: flex;align-items: stretch;justify-content: center;background-color: white;position: relative;}#sk-container-id-1 div.sk-item::before, #sk-container-id-1 div.sk-parallel-item::before {content: \"\";position: absolute;border-left: 1px solid gray;box-sizing: border-box;top: 0;bottom: 0;left: 50%;z-index: -1;}#sk-container-id-1 div.sk-parallel-item {display: flex;flex-direction: column;z-index: 1;position: relative;background-color: white;}#sk-container-id-1 div.sk-parallel-item:first-child::after {align-self: flex-end;width: 50%;}#sk-container-id-1 div.sk-parallel-item:last-child::after {align-self: flex-start;width: 50%;}#sk-container-id-1 div.sk-parallel-item:only-child::after {width: 0;}#sk-container-id-1 div.sk-dashed-wrapped {border: 1px dashed gray;margin: 0 0.4em 0.5em 0.4em;box-sizing: border-box;padding-bottom: 0.4em;background-color: white;}#sk-container-id-1 div.sk-label label {font-family: monospace;font-weight: bold;display: inline-block;line-height: 1.2em;}#sk-container-id-1 div.sk-label-container {text-align: center;}#sk-container-id-1 div.sk-container {/* jupyter's `normalize.less` sets `[hidden] { display: none; }` but bootstrap.min.css set `[hidden] { display: none !important; }` so we also need the `!important` here to be able to override the default hidden behavior on the sphinx rendered scikit-learn.org. See: https://github.com/scikit-learn/scikit-learn/issues/21755 */display: inline-block !important;position: relative;}#sk-container-id-1 div.sk-text-repr-fallback {display: none;}</style><div id=\"sk-container-id-1\" class=\"sk-top-container\"><div class=\"sk-text-repr-fallback\"><pre>Perceptron(eta0=0.1, random_state=1)</pre><b>In a Jupyter environment, please rerun this cell to show the HTML representation or trust the notebook. <br />On GitHub, the HTML representation is unable to render, please try loading this page with nbviewer.org.</b></div><div class=\"sk-container\" hidden><div class=\"sk-item\"><div class=\"sk-estimator sk-toggleable\"><input class=\"sk-toggleable__control sk-hidden--visually\" id=\"sk-estimator-id-1\" type=\"checkbox\" checked><label for=\"sk-estimator-id-1\" class=\"sk-toggleable__label sk-toggleable__label-arrow\">Perceptron</label><div class=\"sk-toggleable__content\"><pre>Perceptron(eta0=0.1, random_state=1)</pre></div></div></div></div></div>"
      ],
      "text/plain": [
       "Perceptron(eta0=0.1, random_state=1)"
      ]
     },
     "execution_count": 15,
     "metadata": {},
     "output_type": "execute_result"
    }
   ],
   "source": [
    "from sklearn.linear_model import Perceptron\n",
    "ppn = Perceptron(eta0=0.1, random_state=1)\n",
    "ppn.fit(X_train_std, y_train)"
   ]
  },
  {
   "cell_type": "code",
   "execution_count": 28,
   "metadata": {},
   "outputs": [
    {
     "name": "stdout",
     "output_type": "stream",
     "text": [
      "[False False False False False False False False False False False False\n",
      " False False False False False False False False False False False False\n",
      " False False  True False False False False False False False False False\n",
      " False False False False False False False False False]\n",
      "Misclassified 1, error rate: 0.022\n"
     ]
    }
   ],
   "source": [
    "y_predict = ppn.predict(X_test_std)\n",
    "y_mis = y_test != y_predict\n",
    "print(y_mis)\n",
    "print('Misclassified %d, error rate: %.3f' % (y_mis.sum(), y_mis.sum() / len(y_mis)))"
   ]
  },
  {
   "cell_type": "code",
   "execution_count": 20,
   "metadata": {},
   "outputs": [
    {
     "name": "stdout",
     "output_type": "stream",
     "text": [
      "Accuracy: 0.978\n"
     ]
    }
   ],
   "source": [
    "from sklearn.metrics import accuracy_score\n",
    "\n",
    "print('Accuracy: %.3f' % accuracy_score(y_test, y_predict))"
   ]
  }
 ],
 "metadata": {
  "kernelspec": {
   "display_name": "python3_11",
   "language": "python",
   "name": "python3"
  },
  "language_info": {
   "codemirror_mode": {
    "name": "ipython",
    "version": 3
   },
   "file_extension": ".py",
   "mimetype": "text/x-python",
   "name": "python",
   "nbconvert_exporter": "python",
   "pygments_lexer": "ipython3",
   "version": "3.11.4"
  },
  "orig_nbformat": 4
 },
 "nbformat": 4,
 "nbformat_minor": 2
}
